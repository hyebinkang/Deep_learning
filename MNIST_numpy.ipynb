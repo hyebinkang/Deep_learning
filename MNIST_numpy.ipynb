{
 "cells": [
  {
   "cell_type": "code",
   "execution_count": 11,
   "id": "e777d463",
   "metadata": {},
   "outputs": [],
   "source": [
    "import numpy as np\n",
    "import pandas as pd\n",
    "from matplotlib import pyplot as plt\n",
    "import warnings\n",
    "data=pd.read_csv('C:/Users/khb10/Downloads/mnist_dataset/mnist_train.csv')"
   ]
  },
  {
   "cell_type": "code",
   "execution_count": 33,
   "id": "d10de0df",
   "metadata": {},
   "outputs": [
    {
     "name": "stdout",
     "output_type": "stream",
     "text": [
      "[[9 7 7 ... 5 5 5]\n",
      " [0 0 0 ... 0 0 0]\n",
      " [0 0 0 ... 0 0 0]\n",
      " ...\n",
      " [0 0 0 ... 0 0 0]\n",
      " [0 0 0 ... 0 0 0]\n",
      " [0 0 0 ... 0 0 0]]\n"
     ]
    }
   ],
   "source": [
    "data = np.array(data)                          #데이터 배열로 만들기\n",
    "m,n = data.shape                               #60000,785\n",
    "np.random.shuffle(data)                        #train/valid 나누기 전에 섞는거\n",
    "\n",
    "data_val = data[0:1000].T                   #0~999개의 데이터는 validation dataset으로 \n",
    "Y_val = data_val[0]                            #transpose를 안해주면 0~255까지의 범위로 출력됨(간편하게 사용)\n",
    "X_val = data_val[1:n]\n",
    "X_val = X_val / 255.\n",
    "\n",
    "data_train = data[1000:m].T                    #1000개 데이터 ~ 끝까지 -> train set\n",
    "Y_train = data_train[0]\n",
    "X_train = data_train[1:n]\n",
    "X_train = X_train / 255.\n",
    "_,m_train = X_train.shape"
   ]
  },
  {
   "cell_type": "code",
   "execution_count": 19,
   "id": "88052953",
   "metadata": {},
   "outputs": [
    {
     "data": {
      "text/plain": [
       "(784,)"
      ]
     },
     "execution_count": 19,
     "metadata": {},
     "output_type": "execute_result"
    }
   ],
   "source": [
    "X_train[:, 0].shape"
   ]
  },
  {
   "cell_type": "code",
   "execution_count": 21,
   "id": "8e9667c6",
   "metadata": {},
   "outputs": [
    {
     "ename": "IndentationError",
     "evalue": "unindent does not match any outer indentation level (<tokenize>, line 34)",
     "output_type": "error",
     "traceback": [
      "\u001b[1;36m  File \u001b[1;32m\"<tokenize>\"\u001b[1;36m, line \u001b[1;32m34\u001b[0m\n\u001b[1;33m    one_hot_Y = one_hot(Y)\u001b[0m\n\u001b[1;37m    ^\u001b[0m\n\u001b[1;31mIndentationError\u001b[0m\u001b[1;31m:\u001b[0m unindent does not match any outer indentation level\n"
     ]
    }
   ],
   "source": [
    "def init_params():                                                   #초기 파라미터 설정, 랜덤값 부여\n",
    "    W1 = np.random.rand(10,784)-0.5                                #28*28픽셀 = 784, 0~9까지 10개의 클래스\n",
    "    b1 = np.random.rand(10, 1)-0.5                                  \n",
    "    W2 = np.random.rand(10, 10)-0.5\n",
    "    b2 = np.random.rand(10, 1)-0.5\n",
    "    return W1, b1, W2, b2\n",
    "\n",
    "def ReLU(Z):                                                        #ReLU\n",
    "    return np.maximum(0,Z)\n",
    "    \n",
    "def softmax(Z):                                                    #Softmax\n",
    "    result = np.exp(Z) / sum(np.exp(Z))\n",
    "    \n",
    "    return result\n",
    "\n",
    "def forward_prop(W1, b1, W2, b2, X):                               #순전파\n",
    "    Z1 = W1.dot(X) + b1                                            #Z1: first layer, W1의 내적\n",
    "    A1 = ReLU(Z1)\n",
    "    Z2= W2.dot(A1)+b2                                              #Z2: second layer\n",
    "    A2 = softmax(Z2)\n",
    "    return Z1, A1, Z2, A2\n",
    "\n",
    "def one_hot(Y):\n",
    "    one_hot_Y = np.zeros((Y.size, Y.max() +1))                 #Y.size = m, Y.max()+1=출력 클래스\n",
    "    one_hot_Y[np.arange(Y.size), Y] = 1\n",
    "    one_hot_Y = one_hot_Y.T\n",
    "    return one_hot_Y\n",
    "\n",
    "def deriv_ReLU(Z):                                              #ReLU의 양수부분만 사용\n",
    "    return Z>0\n",
    "\n",
    "def back_prop(Z1, A1, Z2, A2, W1,W2, X, Y):                       #역전파\n",
    "     m = Y.size\n",
    "    one_hot_Y = one_hot(Y)\n",
    "    dZ2 = A2-one_hot_Y\n",
    "    dW2 = 1 / m * dZ2.dot(A1.T)\n",
    "    db2 = 1 / m *np.sum(dZ2)\n",
    "    dZ1 = W2.T.dot(dZ2) * deriv_ReLU(Z1)\n",
    "    dW1 = 1 / m * dZ1.dot(X.T)\n",
    "    db1 = 1 / m * np.sum(dZ1)\n",
    "    return dW1, db1, dW2, db2\n",
    "\n",
    "def update_params(W1, b1, W2, b2, dW1, db1, dW2, db2, alpha):\n",
    "    W1 = W1-alpha *dW1\n",
    "    b1 = b1-alpha * db1\n",
    "    W2 = W2 - alpha*dW2\n",
    "    b2 = b2 - alpha*db2\n",
    "    return W1, b1, W2, b2"
   ]
  },
  {
   "cell_type": "code",
   "execution_count": 22,
   "id": "a8e41f5b",
   "metadata": {},
   "outputs": [
    {
     "name": "stdout",
     "output_type": "stream",
     "text": [
      "59000\n"
     ]
    }
   ],
   "source": [
    "def get_predictions(A2):\n",
    "    return np.argmax(A2,0)                             #argmax: 가장 큰 원소의 인덱스 반환\n",
    "\n",
    "def get_accuracy(predictions, Y):                      #정확도 계산\n",
    "    print(predictions, Y)\n",
    "    return np.sum(predictions == Y) /Y.size\n",
    "print(Y_train.size)\n",
    "\n",
    "def gradient_descent(X, Y, iterations, alpha):\n",
    "    W1, b1, W2, b2 = init_params()\n",
    "    for i in range(iterations):\n",
    "        Z1, A1, Z2, A2 = forward_prop(W1, b1, W2, b2, X)\n",
    "        dW1, db1, dW2, db2 = back_prop(Z1, A1, Z2, A2, W1, W2, X, Y)\n",
    "        W1, b1, W2, b2 = update_params(W1, b1, W2, b2, dW1, db1, dW2, db2, alpha)\n",
    "        if (i%10==0):\n",
    "            print(\"Iteration: \", i)\n",
    "            print(\"Accuracy: \", get_accuracy(get_predictions(A2), Y))\n",
    "            \n",
    "    return W1, b1, W2, b2"
   ]
  },
  {
   "cell_type": "code",
   "execution_count": 23,
   "id": "d2a26758",
   "metadata": {},
   "outputs": [
    {
     "name": "stdout",
     "output_type": "stream",
     "text": [
      "Iteration:  0\n",
      "[8 8 8 ... 8 8 1] [8 0 5 ... 9 8 7]\n",
      "Accuracy:  0.10167796610169491\n",
      "Iteration:  10\n",
      "[3 4 9 ... 4 0 7] [8 0 5 ... 9 8 7]\n",
      "Accuracy:  0.22077966101694915\n",
      "Iteration:  20\n",
      "[8 4 5 ... 4 0 7] [8 0 5 ... 9 8 7]\n",
      "Accuracy:  0.29133898305084743\n",
      "Iteration:  30\n",
      "[8 0 0 ... 4 0 7] [8 0 5 ... 9 8 7]\n",
      "Accuracy:  0.3504915254237288\n",
      "Iteration:  40\n",
      "[8 0 0 ... 4 0 7] [8 0 5 ... 9 8 7]\n",
      "Accuracy:  0.3962372881355932\n",
      "Iteration:  50\n",
      "[8 0 0 ... 4 0 7] [8 0 5 ... 9 8 7]\n",
      "Accuracy:  0.44277966101694916\n",
      "Iteration:  60\n",
      "[8 0 0 ... 4 0 7] [8 0 5 ... 9 8 7]\n",
      "Accuracy:  0.4892542372881356\n",
      "Iteration:  70\n",
      "[8 0 0 ... 4 0 7] [8 0 5 ... 9 8 7]\n",
      "Accuracy:  0.531593220338983\n",
      "Iteration:  80\n",
      "[8 0 0 ... 4 0 7] [8 0 5 ... 9 8 7]\n",
      "Accuracy:  0.5641186440677967\n",
      "Iteration:  90\n",
      "[8 0 0 ... 4 0 7] [8 0 5 ... 9 8 7]\n",
      "Accuracy:  0.5927966101694915\n",
      "Iteration:  100\n",
      "[8 0 5 ... 4 8 7] [8 0 5 ... 9 8 7]\n",
      "Accuracy:  0.6160508474576272\n",
      "Iteration:  110\n",
      "[8 0 5 ... 4 8 7] [8 0 5 ... 9 8 7]\n",
      "Accuracy:  0.6363389830508475\n",
      "Iteration:  120\n",
      "[8 0 5 ... 4 8 7] [8 0 5 ... 9 8 7]\n",
      "Accuracy:  0.6556440677966102\n",
      "Iteration:  130\n",
      "[8 0 5 ... 4 8 7] [8 0 5 ... 9 8 7]\n",
      "Accuracy:  0.673135593220339\n",
      "Iteration:  140\n",
      "[8 0 5 ... 4 8 7] [8 0 5 ... 9 8 7]\n",
      "Accuracy:  0.6884576271186441\n",
      "Iteration:  150\n",
      "[8 0 5 ... 4 8 7] [8 0 5 ... 9 8 7]\n",
      "Accuracy:  0.7018305084745763\n",
      "Iteration:  160\n",
      "[9 0 5 ... 4 8 7] [8 0 5 ... 9 8 7]\n",
      "Accuracy:  0.713864406779661\n",
      "Iteration:  170\n",
      "[9 0 5 ... 4 8 7] [8 0 5 ... 9 8 7]\n",
      "Accuracy:  0.7234745762711864\n",
      "Iteration:  180\n",
      "[9 0 5 ... 4 8 7] [8 0 5 ... 9 8 7]\n",
      "Accuracy:  0.7335254237288136\n",
      "Iteration:  190\n",
      "[9 0 5 ... 4 8 7] [8 0 5 ... 9 8 7]\n",
      "Accuracy:  0.741593220338983\n",
      "Iteration:  200\n",
      "[9 0 5 ... 4 8 7] [8 0 5 ... 9 8 7]\n",
      "Accuracy:  0.7489830508474576\n",
      "Iteration:  210\n",
      "[9 0 5 ... 4 8 7] [8 0 5 ... 9 8 7]\n",
      "Accuracy:  0.7559152542372881\n",
      "Iteration:  220\n",
      "[9 0 5 ... 4 8 7] [8 0 5 ... 9 8 7]\n",
      "Accuracy:  0.7629491525423728\n",
      "Iteration:  230\n",
      "[9 0 5 ... 4 8 7] [8 0 5 ... 9 8 7]\n",
      "Accuracy:  0.7689152542372881\n",
      "Iteration:  240\n",
      "[9 0 5 ... 4 8 7] [8 0 5 ... 9 8 7]\n",
      "Accuracy:  0.7747796610169492\n",
      "Iteration:  250\n",
      "[9 0 5 ... 4 8 7] [8 0 5 ... 9 8 7]\n",
      "Accuracy:  0.7803050847457628\n",
      "Iteration:  260\n",
      "[9 0 5 ... 4 8 7] [8 0 5 ... 9 8 7]\n",
      "Accuracy:  0.7855254237288135\n",
      "Iteration:  270\n",
      "[9 0 5 ... 4 8 7] [8 0 5 ... 9 8 7]\n",
      "Accuracy:  0.7903728813559322\n",
      "Iteration:  280\n",
      "[9 0 5 ... 4 8 7] [8 0 5 ... 9 8 7]\n",
      "Accuracy:  0.7953220338983051\n",
      "Iteration:  290\n",
      "[9 0 5 ... 4 8 7] [8 0 5 ... 9 8 7]\n",
      "Accuracy:  0.7991525423728814\n"
     ]
    }
   ],
   "source": [
    "iterations = 300\n",
    "alpha = 0.1\n",
    "X = X_train\n",
    "Y = Y_train\n",
    "W1, b1, W2, b2 = init_params()\n",
    "for i in range(iterations):\n",
    "    Z1, A1, Z2, A2 = forward_prop(W1, b1, W2, b2, X)\n",
    "    dW1, db1, dW2, db2 = back_prop(Z1, A1, Z2, A2, W1, W2, X, Y)\n",
    "    W1, b1, W2, b2 = update_params(W1, b1, W2, b2, dW1, db1, dW2, db2, alpha)\n",
    "    if (i%10==0):\n",
    "        print(\"Iteration: \", i)\n",
    "        print(\"Accuracy: \", get_accuracy(get_predictions(A2), Y))"
   ]
  },
  {
   "cell_type": "code",
   "execution_count": 24,
   "id": "f10d848e",
   "metadata": {},
   "outputs": [
    {
     "data": {
      "text/plain": [
       "0"
      ]
     },
     "execution_count": 24,
     "metadata": {},
     "output_type": "execute_result"
    }
   ],
   "source": [
    "np.argmax(get_predictions(A2))"
   ]
  },
  {
   "cell_type": "code",
   "execution_count": 25,
   "id": "3c074748",
   "metadata": {},
   "outputs": [
    {
     "name": "stdout",
     "output_type": "stream",
     "text": [
      "[9 0 5 ... 4 8 7]\n"
     ]
    }
   ],
   "source": [
    "print(get_predictions(A2))"
   ]
  },
  {
   "cell_type": "code",
   "execution_count": 26,
   "id": "748b42e2",
   "metadata": {},
   "outputs": [
    {
     "data": {
      "text/plain": [
       "(59000,)"
      ]
     },
     "execution_count": 26,
     "metadata": {},
     "output_type": "execute_result"
    }
   ],
   "source": [
    "Y_train.shape"
   ]
  },
  {
   "cell_type": "code",
   "execution_count": 27,
   "id": "c02d2ee9",
   "metadata": {},
   "outputs": [],
   "source": [
    "warnings.filterwarnings('ignore')"
   ]
  },
  {
   "cell_type": "code",
   "execution_count": 28,
   "id": "c0ede3dc",
   "metadata": {},
   "outputs": [
    {
     "name": "stdout",
     "output_type": "stream",
     "text": [
      "Iteration:  0\n",
      "[7 7 6 ... 6 6 1] [8 0 5 ... 9 8 7]\n",
      "Accuracy:  0.05125423728813559\n",
      "Iteration:  10\n",
      "[8 0 6 ... 9 8 7] [8 0 5 ... 9 8 7]\n",
      "Accuracy:  0.17110169491525423\n",
      "Iteration:  20\n",
      "[8 0 6 ... 9 8 7] [8 0 5 ... 9 8 7]\n",
      "Accuracy:  0.2699830508474576\n",
      "Iteration:  30\n",
      "[8 0 6 ... 9 8 7] [8 0 5 ... 9 8 7]\n",
      "Accuracy:  0.36538983050847457\n",
      "Iteration:  40\n",
      "[8 0 9 ... 9 8 7] [8 0 5 ... 9 8 7]\n",
      "Accuracy:  0.45149152542372883\n",
      "Iteration:  50\n",
      "[8 0 9 ... 9 8 7] [8 0 5 ... 9 8 7]\n",
      "Accuracy:  0.5085762711864407\n",
      "Iteration:  60\n",
      "[8 0 9 ... 9 8 7] [8 0 5 ... 9 8 7]\n",
      "Accuracy:  0.5627118644067797\n",
      "Iteration:  70\n",
      "[8 0 9 ... 9 9 7] [8 0 5 ... 9 8 7]\n",
      "Accuracy:  0.6065593220338983\n",
      "Iteration:  80\n",
      "[8 0 9 ... 9 9 7] [8 0 5 ... 9 8 7]\n",
      "Accuracy:  0.6400847457627119\n",
      "Iteration:  90\n",
      "[8 0 9 ... 9 9 7] [8 0 5 ... 9 8 7]\n",
      "Accuracy:  0.6675254237288135\n",
      "Iteration:  100\n",
      "[8 0 9 ... 9 9 7] [8 0 5 ... 9 8 7]\n",
      "Accuracy:  0.6897457627118644\n",
      "Iteration:  110\n",
      "[8 0 5 ... 9 9 7] [8 0 5 ... 9 8 7]\n",
      "Accuracy:  0.7068305084745763\n",
      "Iteration:  120\n",
      "[8 0 5 ... 9 9 7] [8 0 5 ... 9 8 7]\n",
      "Accuracy:  0.7206779661016949\n",
      "Iteration:  130\n",
      "[8 0 5 ... 9 9 7] [8 0 5 ... 9 8 7]\n",
      "Accuracy:  0.7311525423728814\n",
      "Iteration:  140\n",
      "[8 0 5 ... 9 9 7] [8 0 5 ... 9 8 7]\n",
      "Accuracy:  0.741135593220339\n",
      "Iteration:  150\n",
      "[8 0 5 ... 9 9 7] [8 0 5 ... 9 8 7]\n",
      "Accuracy:  0.7492033898305085\n",
      "Iteration:  160\n",
      "[8 0 5 ... 9 9 7] [8 0 5 ... 9 8 7]\n",
      "Accuracy:  0.7565254237288136\n",
      "Iteration:  170\n",
      "[8 0 5 ... 9 9 7] [8 0 5 ... 9 8 7]\n",
      "Accuracy:  0.763593220338983\n",
      "Iteration:  180\n",
      "[8 0 5 ... 9 9 7] [8 0 5 ... 9 8 7]\n",
      "Accuracy:  0.7695084745762711\n",
      "Iteration:  190\n",
      "[8 0 5 ... 9 9 7] [8 0 5 ... 9 8 7]\n",
      "Accuracy:  0.7750169491525424\n",
      "Iteration:  200\n",
      "[8 0 5 ... 9 9 7] [8 0 5 ... 9 8 7]\n",
      "Accuracy:  0.7802711864406779\n",
      "Iteration:  210\n",
      "[8 0 5 ... 9 9 7] [8 0 5 ... 9 8 7]\n",
      "Accuracy:  0.7844406779661017\n",
      "Iteration:  220\n",
      "[8 0 5 ... 9 9 7] [8 0 5 ... 9 8 7]\n",
      "Accuracy:  0.7881694915254237\n",
      "Iteration:  230\n",
      "[8 0 5 ... 9 8 7] [8 0 5 ... 9 8 7]\n",
      "Accuracy:  0.7919661016949152\n",
      "Iteration:  240\n",
      "[8 0 5 ... 9 8 7] [8 0 5 ... 9 8 7]\n",
      "Accuracy:  0.7963559322033898\n",
      "Iteration:  250\n",
      "[8 0 5 ... 9 8 7] [8 0 5 ... 9 8 7]\n",
      "Accuracy:  0.8002033898305084\n",
      "Iteration:  260\n",
      "[8 0 5 ... 9 8 7] [8 0 5 ... 9 8 7]\n",
      "Accuracy:  0.8039322033898305\n",
      "Iteration:  270\n",
      "[8 0 5 ... 9 8 7] [8 0 5 ... 9 8 7]\n",
      "Accuracy:  0.8069830508474576\n",
      "Iteration:  280\n",
      "[8 0 5 ... 9 8 7] [8 0 5 ... 9 8 7]\n",
      "Accuracy:  0.8099830508474576\n",
      "Iteration:  290\n",
      "[8 0 5 ... 9 8 7] [8 0 5 ... 9 8 7]\n",
      "Accuracy:  0.812728813559322\n",
      "Iteration:  300\n",
      "[8 0 5 ... 9 8 7] [8 0 5 ... 9 8 7]\n",
      "Accuracy:  0.8155423728813559\n",
      "Iteration:  310\n",
      "[8 0 5 ... 9 8 7] [8 0 5 ... 9 8 7]\n",
      "Accuracy:  0.8184067796610169\n",
      "Iteration:  320\n",
      "[8 0 5 ... 9 8 7] [8 0 5 ... 9 8 7]\n",
      "Accuracy:  0.8209830508474576\n",
      "Iteration:  330\n",
      "[8 0 5 ... 9 8 7] [8 0 5 ... 9 8 7]\n",
      "Accuracy:  0.8231864406779661\n",
      "Iteration:  340\n",
      "[8 0 5 ... 9 8 7] [8 0 5 ... 9 8 7]\n",
      "Accuracy:  0.8255423728813559\n",
      "Iteration:  350\n",
      "[8 0 5 ... 9 8 7] [8 0 5 ... 9 8 7]\n",
      "Accuracy:  0.8276610169491525\n",
      "Iteration:  360\n",
      "[8 0 5 ... 9 8 7] [8 0 5 ... 9 8 7]\n",
      "Accuracy:  0.8293559322033899\n",
      "Iteration:  370\n",
      "[8 0 5 ... 9 8 7] [8 0 5 ... 9 8 7]\n",
      "Accuracy:  0.8311694915254237\n",
      "Iteration:  380\n",
      "[8 0 5 ... 9 8 7] [8 0 5 ... 9 8 7]\n",
      "Accuracy:  0.8329152542372882\n",
      "Iteration:  390\n",
      "[8 0 5 ... 9 8 7] [8 0 5 ... 9 8 7]\n",
      "Accuracy:  0.8349661016949153\n",
      "Iteration:  400\n",
      "[8 0 5 ... 9 8 7] [8 0 5 ... 9 8 7]\n",
      "Accuracy:  0.8365084745762712\n",
      "Iteration:  410\n",
      "[8 0 5 ... 9 8 7] [8 0 5 ... 9 8 7]\n",
      "Accuracy:  0.8380847457627119\n",
      "Iteration:  420\n",
      "[8 0 5 ... 9 8 7] [8 0 5 ... 9 8 7]\n",
      "Accuracy:  0.8396440677966102\n",
      "Iteration:  430\n",
      "[8 0 5 ... 9 8 7] [8 0 5 ... 9 8 7]\n",
      "Accuracy:  0.8413559322033898\n",
      "Iteration:  440\n",
      "[8 0 5 ... 9 8 7] [8 0 5 ... 9 8 7]\n",
      "Accuracy:  0.8427118644067797\n",
      "Iteration:  450\n",
      "[8 0 5 ... 9 8 7] [8 0 5 ... 9 8 7]\n",
      "Accuracy:  0.8443050847457627\n",
      "Iteration:  460\n",
      "[8 0 5 ... 9 8 7] [8 0 5 ... 9 8 7]\n",
      "Accuracy:  0.8453728813559322\n",
      "Iteration:  470\n",
      "[8 0 5 ... 9 8 7] [8 0 5 ... 9 8 7]\n",
      "Accuracy:  0.8466610169491525\n",
      "Iteration:  480\n",
      "[8 0 5 ... 9 8 7] [8 0 5 ... 9 8 7]\n",
      "Accuracy:  0.8478983050847457\n",
      "Iteration:  490\n",
      "[8 0 5 ... 9 8 7] [8 0 5 ... 9 8 7]\n",
      "Accuracy:  0.8495423728813559\n"
     ]
    }
   ],
   "source": [
    "W1, b1, W2, b2 = gradient_descent(X_train, Y_train, 500, 0.10)"
   ]
  },
  {
   "cell_type": "code",
   "execution_count": 36,
   "id": "0330655b",
   "metadata": {},
   "outputs": [],
   "source": [
    "def make_predictions(X, W1, b1, W2, b2):\n",
    "    _, _, _, A2 = forward_prop(W1, b1, W2, b2, X)\n",
    "    predictions = get_predictions(A2)\n",
    "    return predictions\n",
    "\n",
    "def test_prediction(index, W1, b1, W2, b2):\n",
    "    current_image = X_train[:, index, None]\n",
    "    prediction = make_predictions(X_train[:, index, None], W1, b1, W2, b2)\n",
    "    label = Y_train[index]\n",
    "    print(\"Prediction: \", prediction)\n",
    "    print(\"Label: \", label)\n",
    "    \n",
    "    current_image = current_image.reshape((28, 28)) * 255\n",
    "    plt.gray()\n",
    "    plt.imshow(current_image, interpolation='nearest')\n",
    "    plt.show()\n",
    "    return prediction"
   ]
  },
  {
   "cell_type": "code",
   "execution_count": 17,
   "id": "6dc33809",
   "metadata": {},
   "outputs": [
    {
     "name": "stdout",
     "output_type": "stream",
     "text": [
      "(array([[-34.26560524, -49.2615939 , -64.30150544, ..., -65.54413982,\n",
      "        -56.34589547, -62.59605992],\n",
      "       [-38.03417619, -61.99033474, -70.66428954, ..., -73.36147909,\n",
      "        -52.19360636, -49.44898892],\n",
      "       [-44.58109147, -64.68293947, -73.6657863 , ..., -53.08436194,\n",
      "        -50.07049418, -46.99248119],\n",
      "       ...,\n",
      "       [-33.93371744, -60.41164677, -66.4136669 , ..., -78.012098  ,\n",
      "        -54.85574634, -56.43923845],\n",
      "       [-38.70094817, -57.61166907, -88.4400456 , ..., -97.40832013,\n",
      "        -68.60524358, -65.91312756],\n",
      "       [-18.23622513, -64.25779621, -69.85395972, ..., -80.83620089,\n",
      "        -47.53395318, -62.85505034]]), array([[0., 0., 0., ..., 0., 0., 0.],\n",
      "       [0., 0., 0., ..., 0., 0., 0.],\n",
      "       [0., 0., 0., ..., 0., 0., 0.],\n",
      "       ...,\n",
      "       [0., 0., 0., ..., 0., 0., 0.],\n",
      "       [0., 0., 0., ..., 0., 0., 0.],\n",
      "       [0., 0., 0., ..., 0., 0., 0.]]), array([[-0.8260745 , -0.8260745 , -0.8260745 , ..., -0.8260745 ,\n",
      "        -0.8260745 , -0.8260745 ],\n",
      "       [ 1.08444294,  1.08444294,  1.08444294, ...,  1.08444294,\n",
      "         1.08444294,  1.08444294],\n",
      "       [-1.47587256, -1.47587256, -1.47587256, ..., -1.47587256,\n",
      "        -1.47587256, -1.47587256],\n",
      "       ...,\n",
      "       [-0.54558403, -0.54558403, -0.54558403, ..., -0.54558403,\n",
      "        -0.54558403, -0.54558403],\n",
      "       [ 0.47396047,  0.47396047,  0.47396047, ...,  0.47396047,\n",
      "         0.47396047,  0.47396047],\n",
      "       [-1.58884815, -1.58884815, -1.58884815, ..., -1.58884815,\n",
      "        -1.58884815, -1.58884815]]), array([[0.04729123, 0.04729123, 0.04729123, ..., 0.04729123, 0.04729123,\n",
      "        0.04729123],\n",
      "       [0.31952714, 0.31952714, 0.31952714, ..., 0.31952714, 0.31952714,\n",
      "        0.31952714],\n",
      "       [0.02469317, 0.02469317, 0.02469317, ..., 0.02469317, 0.02469317,\n",
      "        0.02469317],\n",
      "       ...,\n",
      "       [0.06260313, 0.06260313, 0.06260313, ..., 0.06260313, 0.06260313,\n",
      "        0.06260313],\n",
      "       [0.1735316 , 0.1735316 , 0.1735316 , ..., 0.1735316 , 0.1735316 ,\n",
      "        0.1735316 ],\n",
      "       [0.02205526, 0.02205526, 0.02205526, ..., 0.02205526, 0.02205526,\n",
      "        0.02205526]])) [9 3 3 ... 2 7 2]\n",
      "0.9871186440677966\n"
     ]
    }
   ],
   "source": [
    "y_pred = forward_prop(W1, b1, W2, b2, X_train)\n",
    "print(get_accuracy(y_pred, Y_train))"
   ]
  },
  {
   "cell_type": "code",
   "execution_count": 37,
   "id": "93058212",
   "metadata": {},
   "outputs": [
    {
     "name": "stdout",
     "output_type": "stream",
     "text": [
      "Prediction:  [0]\n",
      "Label:  0\n"
     ]
    },
    {
     "data": {
      "image/png": "[encoded data removed]",
      "text/plain": [
       "<Figure size 640x480 with 1 Axes>"
      ]
     },
     "metadata": {},
     "output_type": "display_data"
    }
   ],
   "source": [
    "prediction = test_prediction(104, W1, b1, W2, b2)"
   ]
  },
  {
   "cell_type": "code",
   "execution_count": null,
   "id": "c01cb11e",
   "metadata": {},
   "outputs": [],
   "source": []
  }
 ],
 "metadata": {
  "kernelspec": {
   "display_name": "Python 3",
   "language": "python",
   "name": "python3"
  },
  "language_info": {
   "codemirror_mode": {
    "name": "ipython",
    "version": 3
   },
   "file_extension": ".py",
   "mimetype": "text/x-python",
   "name": "python",
   "nbconvert_exporter": "python",
   "pygments_lexer": "ipython3",
   "version": "3.8.8"
  }
 },
 "nbformat": 4,
 "nbformat_minor": 5
}
