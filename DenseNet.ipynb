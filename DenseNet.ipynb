{
 "cells": [
  {
   "cell_type": "code",
   "execution_count": 2,
   "id": "007483ae",
   "metadata": {},
   "outputs": [],
   "source": [
    "import tensorflow as tf\n",
    "from tensorflow import keras\n",
    "from tensorflow.keras import layers"
   ]
  },
  {
   "cell_type": "code",
   "execution_count": null,
   "id": "f625e304",
   "metadata": {},
   "outputs": [],
   "source": [
    "def densenet(n_classes, filters=32):\n",
    "    \n",
    "    def bn_rl_conv(x, filters, kernel=1, strides=1):\n",
    "\n",
    "        x = tf.keras.layers.BatchNormalization()(x)        \n",
    "        x = tf.keras.layers.Activation(keras.activations.relu)(x)\n",
    "        x = tf.keras.layers.Conv2D(filters, kernel, strides=strides, padding='same')(x)\n",
    "        return x\n",
    "\n",
    "    def dense_block(x, repetition):  # 줄기를 기준으로 새로운 가지 형성, 새로운 가지만들고 array에 새로운 가지 만들때마다 넣어줌\n",
    "        array = [x]\n",
    "        for _ in range(repetition):\n",
    "            y = bn_rl_conv(x, 4 * filters)\n",
    "            y = bn_rl_conv(y, filters, 3)\n",
    "            array.append(y)\n",
    "            x = tf.keras.layers.concatenate(array)\n",
    "        return x\n",
    "\n",
    "    def transition_layer(x):\n",
    "        x = tf.keras.layers.Conv2D(12, (1, 1), strides=2, padding='same')(x)\n",
    "        x = tf.keras.layers.AvgPool2D(2, strides=2, padding='same')(x)\n",
    "        return x\n",
    "\n",
    "    input = tf.keras.layers.Input(shape=(224, 224, 3))\n",
    "    x = tf.keras.layers.Conv2D(64, 7, strides=2, padding='same')(input)\n",
    "    x = tf.keras.layers.MaxPool2D(3, strides=2, padding='same')(x)\n",
    "\n",
    "    for repetition in [6, 12, 24, 16]:\n",
    "        d = dense_block(x, repetition)\n",
    "        x = transition_layer(d)\n",
    "\n",
    "    x = tf.keras.layers.GlobalAveragePooling2D()(d)\n",
    "    output = tf.keras.layers.Dense(10, activation='softmax')(x)\n",
    "\n",
    "    model = tf.keras.Model(input, output)\n",
    "    return model\n",
    "\n",
    "\n",
    "model = densenet(10)\n",
    "model.summary()"
   ]
  }
 ],
 "metadata": {
  "kernelspec": {
   "display_name": "Python 3",
   "language": "python",
   "name": "python3"
  },
  "language_info": {
   "codemirror_mode": {
    "name": "ipython",
    "version": 3
   },
   "file_extension": ".py",
   "mimetype": "text/x-python",
   "name": "python",
   "nbconvert_exporter": "python",
   "pygments_lexer": "ipython3",
   "version": "3.8.8"
  }
 },
 "nbformat": 4,
 "nbformat_minor": 5
}
